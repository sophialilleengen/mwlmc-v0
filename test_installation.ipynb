{
 "cells": [
  {
   "cell_type": "code",
   "execution_count": 1,
   "id": "1777d3bc-b1b5-4114-8998-4e109f42800b",
   "metadata": {
    "execution": {
     "iopub.execute_input": "2022-04-30T00:18:02.268535Z",
     "iopub.status.busy": "2022-04-30T00:18:02.268089Z",
     "iopub.status.idle": "2022-04-30T00:18:02.293278Z",
     "shell.execute_reply": "2022-04-30T00:18:02.292171Z",
     "shell.execute_reply.started": "2022-04-30T00:18:02.268425Z"
    }
   },
   "outputs": [],
   "source": [
    "import mwlmc"
   ]
  },
  {
   "cell_type": "code",
   "execution_count": 2,
   "id": "024a9380-3b33-4f65-80b2-fea94c14e42c",
   "metadata": {
    "execution": {
     "iopub.execute_input": "2022-04-30T00:18:08.564795Z",
     "iopub.status.busy": "2022-04-30T00:18:08.564395Z",
     "iopub.status.idle": "2022-04-30T00:18:09.256530Z",
     "shell.execute_reply": "2022-04-30T00:18:09.255381Z",
     "shell.execute_reply.started": "2022-04-30T00:18:08.564762Z"
    }
   },
   "outputs": [
    {
     "name": "stderr",
     "output_type": "stream",
     "text": [
      "sphcache::read_sph_cache: trying to read cached table . . . success!!\n",
      "sphcache::read_sph_cache: trying to read cached table . . . success!!\n",
      "cylcache.read_cyl_cache: trying to read cached table. . . success!!\n"
     ]
    },
    {
     "name": "stdout",
     "output_type": "stream",
     "text": [
      "Initialising MW ... \n",
      "sphcoefs::read_coef_file: reading coefficients from file . . . success!!\n",
      "Initialising LMC ... \n",
      "sphcoefs::read_coef_file: reading coefficients from file . . . success!!\n",
      "Initialising MW disc ... \n",
      "cylcoefs.read_coef_file: reading NUMT, LMAX, NORDER from file . . . success!!\n"
     ]
    }
   ],
   "source": [
    "model = mwlmc.MWLMC()"
   ]
  },
  {
   "cell_type": "code",
   "execution_count": 3,
   "id": "92f97d1a-50d2-4c73-ad4e-71671908cca0",
   "metadata": {
    "execution": {
     "iopub.execute_input": "2022-04-30T00:18:17.947042Z",
     "iopub.status.busy": "2022-04-30T00:18:17.946669Z",
     "iopub.status.idle": "2022-04-30T00:18:18.220581Z",
     "shell.execute_reply": "2022-04-30T00:18:18.220098Z",
     "shell.execute_reply.started": "2022-04-30T00:18:17.947012Z"
    }
   },
   "outputs": [
    {
     "data": {
      "text/plain": [
       "array([[ 0.00000000e+00,  4.08419848e+01,  4.50895929e+02,\n",
       "        -8.88303990e+01],\n",
       "       [ 2.07789474e-01,  3.93579882e+01,  4.24748007e+02,\n",
       "        -9.13623261e+01],\n",
       "       [ 4.15578947e-01,  3.72639546e+01,  3.96656304e+02,\n",
       "        -9.38573683e+01],\n",
       "       [ 6.23368421e-01,  3.56566417e+01,  3.68017614e+02,\n",
       "        -9.59918812e+01],\n",
       "       [ 8.31157895e-01,  3.33436305e+01,  3.37403832e+02,\n",
       "        -9.76121351e+01],\n",
       "       [ 1.03894737e+00,  3.12298605e+01,  3.03994266e+02,\n",
       "        -9.84942838e+01],\n",
       "       [ 1.24673684e+00,  2.86269675e+01,  2.67814836e+02,\n",
       "        -9.86615256e+01],\n",
       "       [ 1.45452632e+00,  2.58619324e+01,  2.28482886e+02,\n",
       "        -9.77893566e+01],\n",
       "       [ 1.66231579e+00,  2.23138817e+01,  1.85769389e+02,\n",
       "        -9.57177177e+01],\n",
       "       [ 1.87010526e+00,  1.82397995e+01,  1.38131383e+02,\n",
       "        -9.13138659e+01],\n",
       "       [ 2.07789474e+00,  1.33984376e+01,  8.42753898e+01,\n",
       "        -8.31914904e+01]])"
      ]
     },
     "execution_count": 3,
     "metadata": {},
     "output_type": "execute_result"
    }
   ],
   "source": [
    "model.get_lmc_trajectory(0.1)"
   ]
  },
  {
   "cell_type": "code",
   "execution_count": null,
   "id": "80434074-c395-4235-baa1-056a94cdd0ff",
   "metadata": {},
   "outputs": [],
   "source": []
  }
 ],
 "metadata": {
  "kernelspec": {
   "display_name": "Python 3 (ipykernel)",
   "language": "python",
   "name": "python3"
  },
  "language_info": {
   "codemirror_mode": {
    "name": "ipython",
    "version": 3
   },
   "file_extension": ".py",
   "mimetype": "text/x-python",
   "name": "python",
   "nbconvert_exporter": "python",
   "pygments_lexer": "ipython3",
   "version": "3.8.12"
  }
 },
 "nbformat": 4,
 "nbformat_minor": 5
}
